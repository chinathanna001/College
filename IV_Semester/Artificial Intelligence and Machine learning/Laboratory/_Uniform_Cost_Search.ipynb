{
  "nbformat": 4,
  "nbformat_minor": 0,
  "metadata": {
    "colab": {
      "provenance": []
    },
    "kernelspec": {
      "name": "python3",
      "display_name": "Python 3"
    },
    "language_info": {
      "name": "python"
    }
  },
  "cells": [
    {
      "cell_type": "markdown",
      "source": [
        "#Uniform Cost Search"
      ],
      "metadata": {
        "id": "UtBpBSdnzx3N"
      }
    },
    {
      "cell_type": "code",
      "execution_count": 1,
      "metadata": {
        "colab": {
          "base_uri": "https://localhost:8080/"
        },
        "id": "kWVdkZKVzplr",
        "outputId": "e813871c-f074-4715-a4c8-a97cbedd1477"
      },
      "outputs": [
        {
          "output_type": "stream",
          "name": "stdout",
          "text": [
            "Path from A to F: ['A', 'C', 'F']\n"
          ]
        }
      ],
      "source": [
        "import heapq\n",
        "\n",
        "\n",
        "def uniform_cost_search(graph, start, goal):\n",
        "    queue = [(0, start, [])]\n",
        "    visited = set()\n",
        "\n",
        "    while queue:\n",
        "        cost, current_node, path = heapq.heappop(queue)\n",
        "        if current_node == goal:\n",
        "            return path + [current_node]\n",
        "\n",
        "        visited.add(current_node)\n",
        "\n",
        "        for neighbor, edge_cost in graph[current_node].items():\n",
        "            if neighbor not in visited:\n",
        "                total_cost = cost + edge_cost\n",
        "                heapq.heappush(queue, (total_cost, neighbor, path + [current_node]))\n",
        "\n",
        "    return None\n",
        "\n",
        "\n",
        "graph = {\n",
        "    'A': {'B': 5, 'C': 3},\n",
        "    'B': {'D': 2, 'E': 4},\n",
        "    'C': {'F': 6},\n",
        "    'D': {},\n",
        "    'E': {'F': 1},\n",
        "    'F': {}\n",
        "}\n",
        "\n",
        "start_node = 'A'\n",
        "goal_node = 'F'\n",
        "\n",
        "result = uniform_cost_search(graph, start_node, goal_node)\n",
        "\n",
        "if result:\n",
        "    print(f\"Path from {start_node} to {goal_node}: {result}\")\n",
        "else:\n",
        "    print(f\"No path found from {start_node} to {goal_node}\")\n"
      ]
    },
    {
      "cell_type": "code",
      "source": [],
      "metadata": {
        "id": "MT1cubg1zqYo"
      },
      "execution_count": null,
      "outputs": []
    }
  ]
}